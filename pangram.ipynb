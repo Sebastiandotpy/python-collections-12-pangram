{
 "cells": [
  {
   "cell_type": "code",
   "execution_count": 9,
   "metadata": {},
   "outputs": [
    {
     "name": "stdout",
     "output_type": "stream",
     "text": [
      "Input: Waltz, bad nymph, for quick jigs vex.\n",
      "Is Pangram: True\n",
      "\n",
      "Input: Glib jocks quiz nymph to vex dwarf.\n",
      "Is Pangram: True\n",
      "\n",
      "Input: Sphinx of black quartz, judge my vow.\n",
      "Is Pangram: True\n",
      "\n",
      "Input: How vexingly quick daft zebras jump!\n",
      "Is Pangram: True\n",
      "\n",
      "Input: The five boxing wizards jump quickly.\n",
      "Is Pangram: True\n",
      "\n",
      "Input: Jackdaws love my big sphinx of quartz.\n",
      "Is Pangram: True\n",
      "\n",
      "Input: Pack my box with five dozen liquor jugs.\n",
      "Is Pangram: True\n",
      "\n"
     ]
    }
   ],
   "source": [
    "ALPHABET = set('abcdefghijklmnopqrstuvwxyz') # Global constant\n",
    "\n",
    "def is_pangram(input_string):\n",
    "    \"\"\"\n",
    "    Checks if the given input string is a pangram.\n",
    "\n",
    "    Args:\n",
    "        input_string (str): The input string to check.\n",
    "\n",
    "    Returns:\n",
    "        bool: True if the input string is a pangram, False otherwise.\n",
    "    \"\"\"\n",
    "    clean_string = remove_non_alphabetic_chars(input_string)\n",
    "    return is_pangram_set(clean_string)\n",
    "\n",
    "\n",
    "def remove_non_alphabetic_chars(input_string):\n",
    "    \"\"\"\n",
    "    Removes non-alphabetic characters from the input string and converts it to lowercase.\n",
    "\n",
    "    Args:\n",
    "        input_string (str): The input string to clean.\n",
    "\n",
    "    Returns:\n",
    "        str: The cleaned string containing only lowercase alphabetic characters.\n",
    "    \"\"\"\n",
    "    return ''.join(char.lower() for char in input_string if char.isalpha())\n",
    "\n",
    "def is_pangram_set(clean_string):\n",
    "    \"\"\"\n",
    "    Checks if the cleaned string contains all letters of the alphabet using a set.\n",
    "\n",
    "    Args:\n",
    "        clean_string (str): The cleaned string to check.\n",
    "\n",
    "    Returns:\n",
    "        bool: True if the cleaned string is a pangram, False otherwise.\n",
    "    \"\"\"\n",
    "    return ALPHABET.issubset(clean_string)\n",
    "\n",
    "# Test the function with examples\n",
    "test_strings = [\n",
    "    'Waltz, bad nymph, for quick jigs vex.',\n",
    "    'Glib jocks quiz nymph to vex dwarf.',\n",
    "    'Sphinx of black quartz, judge my vow.',\n",
    "    'How vexingly quick daft zebras jump!',\n",
    "    'The five boxing wizards jump quickly.',\n",
    "    'Jackdaws love my big sphinx of quartz.',\n",
    "    'Pack my box with five dozen liquor jugs.'\n",
    "]\n",
    "\n",
    "for string in test_strings:\n",
    "    result = is_pangram(string)\n",
    "    print(f\"Input: {string}\")\n",
    "    print(f\"Is Pangram: {result}\")\n",
    "    print()\n"
   ]
  },
  {
   "cell_type": "code",
   "execution_count": 8,
   "metadata": {},
   "outputs": [
    {
     "name": "stdout",
     "output_type": "stream",
     "text": [
      "\n"
     ]
    }
   ],
   "source": [
    "from collections import defaultdict\n",
    "d = defaultdict(str)\n",
    "print(d['key'])"
   ]
  }
 ],
 "metadata": {
  "kernelspec": {
   "display_name": "Python 3",
   "language": "python",
   "name": "python3"
  },
  "language_info": {
   "codemirror_mode": {
    "name": "ipython",
    "version": 3
   },
   "file_extension": ".py",
   "mimetype": "text/x-python",
   "name": "python",
   "nbconvert_exporter": "python",
   "pygments_lexer": "ipython3",
   "version": "3.11.3"
  },
  "orig_nbformat": 4
 },
 "nbformat": 4,
 "nbformat_minor": 2
}
